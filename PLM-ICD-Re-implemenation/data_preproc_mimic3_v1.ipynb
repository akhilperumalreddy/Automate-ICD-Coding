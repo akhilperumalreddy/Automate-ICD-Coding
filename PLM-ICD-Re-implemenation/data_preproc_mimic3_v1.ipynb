{
 "cells": [
  {
   "cell_type": "code",
   "execution_count": 1,
   "metadata": {},
   "outputs": [
    {
     "name": "stderr",
     "output_type": "stream",
     "text": [
      "c:\\Users\\harsh\\anaconda3\\envs\\3bmi771\\lib\\site-packages\\tqdm\\auto.py:22: TqdmWarning: IProgress not found. Please update jupyter and ipywidgets. See https://ipywidgets.readthedocs.io/en/stable/user_install.html\n",
      "  from .autonotebook import tqdm as notebook_tqdm\n"
     ]
    }
   ],
   "source": [
    "import pandas as pd\n",
    "import torch\n",
    "from nltk.tokenize import RegexpTokenizer\n",
    "from sklearn.feature_extraction.text import CountVectorizer\n",
    "from collections import Counter, defaultdict"
   ]
  },
  {
   "attachments": {},
   "cell_type": "markdown",
   "metadata": {},
   "source": [
    "**ICD Codes from Diagnosis and Procedures**"
   ]
  },
  {
   "cell_type": "code",
   "execution_count": 2,
   "metadata": {},
   "outputs": [],
   "source": [
    "def reformat(code, is_diag): ## leveraged from caml-mimic (for adding periods (dots) to ICD codes)\n",
    "    \"\"\"\n",
    "        Put a period in the right place because the MIMIC-3 data files exclude them.\n",
    "        Generally, procedure codes have dots after the first two digits, \n",
    "        while diagnosis codes have dots after the first three digits.\n",
    "    \"\"\"\n",
    "    code = ''.join(code.split('.'))\n",
    "    if is_diag:\n",
    "        if code.startswith('E'):\n",
    "            if len(code) > 4:\n",
    "                code = code[:4] + '.' + code[4:]\n",
    "        else:\n",
    "            if len(code) > 3:\n",
    "                code = code[:3] + '.' + code[3:]\n",
    "    else:\n",
    "        code = code[:2] + '.' + code[2:]\n",
    "    return code"
   ]
  },
  {
   "cell_type": "code",
   "execution_count": 3,
   "metadata": {},
   "outputs": [
    {
     "name": "stdout",
     "output_type": "stream",
     "text": [
      "   ROW_ID  SUBJECT_ID  HADM_ID  SEQ_NUM ICD9_CODE FORM_ICD9_CODE\n",
      "0    1297         109   172335      1.0     40301         403.01\n",
      "1    1298         109   172335      2.0       486            486\n",
      "2    1299         109   172335      3.0     58281         582.81\n",
      "3    1300         109   172335      4.0      5855          585.5\n",
      "4    1301         109   172335      5.0      4254          425.4\n",
      " # unique ICD codes:  8994\n"
     ]
    }
   ],
   "source": [
    "## read data\n",
    "diag_df = pd.read_csv('MIMIC_DATA/DIAGNOSES_ICD.csv')\n",
    "proc_df = pd.read_csv('MIMIC_DATA/PROCEDURES_ICD.csv')\n",
    "\n",
    "## reformat codes\n",
    "diag_df['FORM_ICD9_CODE'] = diag_df['ICD9_CODE'].apply(lambda x: reformat(str(x), True))\n",
    "proc_df['FORM_ICD9_CODE'] = proc_df['ICD9_CODE'].apply(lambda x: reformat(str(x), False))\n",
    "\n",
    "## merge data\n",
    "all_df_codes = pd.concat([diag_df, proc_df])\n",
    "print(all_df_codes[:5])\n",
    "\n",
    "##save all codes to csv\n",
    "all_df_codes.to_csv('MIMIC_DATA/all_codes.csv', index=False, columns=['ROW_ID', 'SUBJECT_ID', 'HADM_ID', 'SEQ_NUM', 'FORM_ICD9_CODE'],\n",
    "               header=['ROW_ID', 'SUBJECT_ID', 'HADM_ID', 'SEQ_NUM', 'ICD9_CODE'])\n",
    "\n",
    "\n",
    "all_df_codes = all_df_codes[['ROW_ID', 'SUBJECT_ID', 'HADM_ID', 'SEQ_NUM', 'FORM_ICD9_CODE']]\n",
    "\n",
    "all_df_codes.rename(columns={'FORM_ICD9_CODE': 'ICD9_CODE'}, inplace=True)\n",
    "\n",
    "print(\" # unique ICD codes: \", len(all_df_codes['ICD9_CODE'].unique()))"
   ]
  },
  {
   "attachments": {},
   "cell_type": "markdown",
   "metadata": {},
   "source": [
    "**Extract Discharge summaries (from Notes) and then Tokenize only non-numeric text**"
   ]
  },
  {
   "cell_type": "code",
   "execution_count": 4,
   "metadata": {},
   "outputs": [],
   "source": [
    "def tokenize_lower_nonnum(text):\n",
    "    tokenizer = RegexpTokenizer(r'\\w+')\n",
    "    updated_text = [token.lower() for token in tokenizer.tokenize(text) if not token.isnumeric()]\n",
    "    updated_text = '\"'+ ' '.join(updated_text) + '\"'\n",
    "    return updated_text"
   ]
  },
  {
   "cell_type": "code",
   "execution_count": 15,
   "metadata": {},
   "outputs": [
    {
     "name": "stderr",
     "output_type": "stream",
     "text": [
      "C:\\Users\\harsh\\AppData\\Local\\Temp\\ipykernel_50136\\1747403156.py:3: DtypeWarning: Columns (4,5) have mixed types. Specify dtype option on import or set low_memory=False.\n",
      "  notes_df = pd.read_csv('MIMIC_DATA/NOTEEVENTS.csv') ## read Noteevents data\n"
     ]
    }
   ],
   "source": [
    "#tokenizer = RegexpTokenizer(r'\\w+')\n",
    "\n",
    "\"\"\"\n",
    "##code for processing discharge summaries, if we already did, not needed to run again\n",
    "\n",
    "notes_df = pd.read_csv('MIMIC_DATA/NOTEEVENTS.csv') ## read Noteevents data\n",
    "\n",
    "notes_df = notes_df[notes_df['CATEGORY'] == 'Discharge summary'] ## filter for discharge summaries\n",
    "\n",
    "notes_df['TEXT'] = notes_df['TEXT'].apply(lambda x: tokenize_lower_nonnum(x)) ## tokenize, lower case, remove numbers\n",
    "\n",
    "notes_df = notes_df[['SUBJECT_ID', 'HADM_ID', 'CHARTTIME', 'TEXT']] ## keep only relevant columns\n",
    "\n",
    "#write to csv\n",
    "notes_df.to_csv('MIMIC_DATA/processed_discharge_summaries.csv', index=False)\n",
    "\n",
    "\"\"\"\n"
   ]
  },
  {
   "cell_type": "code",
   "execution_count": 13,
   "metadata": {},
   "outputs": [
    {
     "name": "stdout",
     "output_type": "stream",
     "text": [
      " # unique SUBJECT_IDs with discharge notes:  41127\n",
      " # unique HADM_IDs with discharge notes:  52726\n"
     ]
    }
   ],
   "source": [
    "##read processed discharge summaries\n",
    "dis_df = pd.read_csv('MIMIC_DATA/processed_discharge_summaries.csv', dtype= {\"SUBJECT_ID\": int, 'HADM_ID': int}) ## read processed discharge summaries\n",
    "dis_df = dis_df.sort_values(['SUBJECT_ID', 'HADM_ID']) ## sort by subject id and hadm id\n",
    "\n",
    "## keep only relevant columns\n",
    "dis_df = dis_df[['SUBJECT_ID', 'HADM_ID', 'TEXT']]\n",
    "\n",
    "##key details\n",
    "print(\" # unique SUBJECT_IDs with discharge notes: \", len(dis_df['SUBJECT_ID'].unique()))\n",
    "print(\" # unique HADM_IDs with discharge notes: \", len(dis_df['HADM_ID'].unique()))\n",
    "\n"
   ]
  },
  {
   "cell_type": "code",
   "execution_count": 17,
   "metadata": {},
   "outputs": [
    {
     "data": {
      "text/html": [
       "<div>\n",
       "<style scoped>\n",
       "    .dataframe tbody tr th:only-of-type {\n",
       "        vertical-align: middle;\n",
       "    }\n",
       "\n",
       "    .dataframe tbody tr th {\n",
       "        vertical-align: top;\n",
       "    }\n",
       "\n",
       "    .dataframe thead th {\n",
       "        text-align: right;\n",
       "    }\n",
       "</style>\n",
       "<table border=\"1\" class=\"dataframe\">\n",
       "  <thead>\n",
       "    <tr style=\"text-align: right;\">\n",
       "      <th></th>\n",
       "      <th>SUBJECT_ID</th>\n",
       "      <th>HADM_ID</th>\n",
       "      <th>TEXT</th>\n",
       "    </tr>\n",
       "  </thead>\n",
       "  <tbody>\n",
       "    <tr>\n",
       "      <th>48470</th>\n",
       "      <td>3</td>\n",
       "      <td>145834</td>\n",
       "      <td>\"admission date discharge date date of birth s...</td>\n",
       "    </tr>\n",
       "    <tr>\n",
       "      <th>4782</th>\n",
       "      <td>4</td>\n",
       "      <td>185777</td>\n",
       "      <td>\"admission date discharge date date of birth s...</td>\n",
       "    </tr>\n",
       "    <tr>\n",
       "      <th>24476</th>\n",
       "      <td>6</td>\n",
       "      <td>107064</td>\n",
       "      <td>\"admission date discharge date date of birth s...</td>\n",
       "    </tr>\n",
       "  </tbody>\n",
       "</table>\n",
       "</div>"
      ],
      "text/plain": [
       "       SUBJECT_ID  HADM_ID                                               TEXT\n",
       "48470           3   145834  \"admission date discharge date date of birth s...\n",
       "4782            4   185777  \"admission date discharge date date of birth s...\n",
       "24476           6   107064  \"admission date discharge date date of birth s..."
      ]
     },
     "execution_count": 17,
     "metadata": {},
     "output_type": "execute_result"
    }
   ],
   "source": [
    "dis_df[0:3]"
   ]
  },
  {
   "attachments": {},
   "cell_type": "markdown",
   "metadata": {},
   "source": [
    "**Integrate ICD codes from Diagnosis and Procedures with Discharge summaries**"
   ]
  },
  {
   "cell_type": "code",
   "execution_count": 18,
   "metadata": {},
   "outputs": [
    {
     "name": "stdout",
     "output_type": "stream",
     "text": [
      " # unique HADM_IDs in all_codes:  52726\n"
     ]
    }
   ],
   "source": [
    "all_df_codes.sort_values(['SUBJECT_ID', 'HADM_ID'], inplace=True) ## sort by subject id and hadm id\n",
    "\n",
    "##keep only the codes for which we have discharge summaries\n",
    "\n",
    "all_df_codes = all_df_codes[all_df_codes['HADM_ID'].isin(dis_df['HADM_ID'].unique())]\n",
    "\n",
    "all_df_codes.sort_values(['SUBJECT_ID', 'HADM_ID'], inplace=True)\n",
    "\n",
    "print (\" # unique HADM_IDs in all_codes: \", len(all_df_codes['HADM_ID'].unique()))\n"
   ]
  },
  {
   "cell_type": "code",
   "execution_count": 20,
   "metadata": {},
   "outputs": [
    {
     "data": {
      "text/html": [
       "<div>\n",
       "<style scoped>\n",
       "    .dataframe tbody tr th:only-of-type {\n",
       "        vertical-align: middle;\n",
       "    }\n",
       "\n",
       "    .dataframe tbody tr th {\n",
       "        vertical-align: top;\n",
       "    }\n",
       "\n",
       "    .dataframe thead th {\n",
       "        text-align: right;\n",
       "    }\n",
       "</style>\n",
       "<table border=\"1\" class=\"dataframe\">\n",
       "  <thead>\n",
       "    <tr style=\"text-align: right;\">\n",
       "      <th></th>\n",
       "      <th>SUBJECT_ID</th>\n",
       "      <th>HADM_ID</th>\n",
       "      <th>TEXT</th>\n",
       "      <th>ICD9_CODE</th>\n",
       "    </tr>\n",
       "  </thead>\n",
       "  <tbody>\n",
       "    <tr>\n",
       "      <th>0</th>\n",
       "      <td>3</td>\n",
       "      <td>145834</td>\n",
       "      <td>\"admission date discharge date date of birth s...</td>\n",
       "      <td>038.9;785.59;584.9;427.5;410.71;428.0;682.6;42...</td>\n",
       "    </tr>\n",
       "    <tr>\n",
       "      <th>1</th>\n",
       "      <td>4</td>\n",
       "      <td>185777</td>\n",
       "      <td>\"admission date discharge date date of birth s...</td>\n",
       "      <td>042;136.3;799.4;276.3;790.7;571.5;041.11;V09.0...</td>\n",
       "    </tr>\n",
       "    <tr>\n",
       "      <th>2</th>\n",
       "      <td>6</td>\n",
       "      <td>107064</td>\n",
       "      <td>\"admission date discharge date date of birth s...</td>\n",
       "      <td>403.91;444.0;997.2;276.6;276.7;285.9;275.3;V15...</td>\n",
       "    </tr>\n",
       "  </tbody>\n",
       "</table>\n",
       "</div>"
      ],
      "text/plain": [
       "   SUBJECT_ID  HADM_ID                                               TEXT  \\\n",
       "0           3   145834  \"admission date discharge date date of birth s...   \n",
       "1           4   185777  \"admission date discharge date date of birth s...   \n",
       "2           6   107064  \"admission date discharge date date of birth s...   \n",
       "\n",
       "                                           ICD9_CODE  \n",
       "0  038.9;785.59;584.9;427.5;410.71;428.0;682.6;42...  \n",
       "1  042;136.3;799.4;276.3;790.7;571.5;041.11;V09.0...  \n",
       "2  403.91;444.0;997.2;276.6;276.7;285.9;275.3;V15...  "
      ]
     },
     "execution_count": 20,
     "metadata": {},
     "output_type": "execute_result"
    }
   ],
   "source": [
    "##grouping codes by HADM_ID and subject_id\n",
    "all_codes_df_2 = all_df_codes.groupby(['SUBJECT_ID', 'HADM_ID'])['ICD9_CODE'].apply(list).reset_index()\n",
    "all_codes_df_2['ICD9_CODE'] = all_codes_df_2['ICD9_CODE'].apply(lambda x: ';'.join(x))\n",
    "#print(\"updated allcodes:\", all_codes_df_2[:5])\n",
    "\n",
    "##merge discharge summaries and codes\n",
    "notes_codes_df = pd.merge(dis_df, all_codes_df_2, on=['SUBJECT_ID', 'HADM_ID'], how='inner')\n",
    "notes_codes_df[:3]"
   ]
  },
  {
   "cell_type": "code",
   "execution_count": 22,
   "metadata": {},
   "outputs": [
    {
     "name": "stdout",
     "output_type": "stream",
     "text": [
      " # unique HADM_IDs in merged data:  52726\n"
     ]
    }
   ],
   "source": [
    "print(\" # unique HADM_IDs in merged data: \", len(notes_codes_df['HADM_ID'].unique()))"
   ]
  },
  {
   "cell_type": "code",
   "execution_count": 24,
   "metadata": {},
   "outputs": [
    {
     "data": {
      "text/plain": [
       "59652"
      ]
     },
     "execution_count": 24,
     "metadata": {},
     "output_type": "execute_result"
    }
   ],
   "source": [
    "len(notes_codes_df)"
   ]
  },
  {
   "attachments": {},
   "cell_type": "markdown",
   "metadata": {},
   "source": [
    "**Create Train, Validation and Test sets**"
   ]
  },
  {
   "cell_type": "code",
   "execution_count": 25,
   "metadata": {},
   "outputs": [],
   "source": [
    "train_perc, dev_perc, test_perc = 0.8, 0.1, 0.1\n",
    "\n",
    "shuffled_indices = torch.randperm(len(notes_codes_df)) ##\n",
    "\n",
    "train_df = notes_codes_df.iloc[shuffled_indices[:int(len(notes_codes_df)*train_perc)]]\n",
    "\n",
    "dev_df = notes_codes_df.iloc[shuffled_indices[int(len(notes_codes_df)*train_perc):int(len(notes_codes_df)*(train_perc+dev_perc))]]\n",
    "\n",
    "test_df = notes_codes_df.iloc[shuffled_indices[int(len(notes_codes_df)*(train_perc+dev_perc)):]]"
   ]
  },
  {
   "attachments": {},
   "cell_type": "markdown",
   "metadata": {},
   "source": [
    "**Buidling Vocabulary using Training set**"
   ]
  },
  {
   "cell_type": "code",
   "execution_count": 26,
   "metadata": {},
   "outputs": [
    {
     "name": "stdout",
     "output_type": "stream",
     "text": [
      "Vocabulary size based on train data:  50088\n"
     ]
    }
   ],
   "source": [
    "training_documents = train_df['TEXT'].tolist()\n",
    "\n",
    "vectorizer = CountVectorizer(min_df=3)\n",
    "\n",
    "vectorizer.fit(training_documents)\n",
    "\n",
    "vocab = vectorizer.vocabulary_\n",
    "\n",
    "print(\"Vocabulary size based on train data: \", len(vocab))\n",
    "\n",
    "##save vocab to file\n",
    "with open('MIMIC_DATA/disnotes_vocab.txt', 'w') as f:\n",
    "    for word, index in vocab.items():\n",
    "        f.write(f'{word}\\t{index}\\n') ## writes word and index to a text file (with tab delimiter, reference code just saved the sorted list of words)\n"
   ]
  },
  {
   "attachments": {},
   "cell_type": "markdown",
   "metadata": {},
   "source": [
    "**Sort data based on length of the text for batching**"
   ]
  },
  {
   "cell_type": "code",
   "execution_count": null,
   "metadata": {},
   "outputs": [],
   "source": [
    "train_df[\"length\"] = train_df[\"TEXT\"].apply(lambda x: len(x.split()))\n",
    "train_df.sort_values(by=\"length\", inplace=True)\n",
    "\n",
    "dev_df[\"length\"] = dev_df[\"TEXT\"].apply(lambda x: len(x.split()))\n",
    "dev_df.sort_values(by=\"length\", inplace=True)\n",
    "\n",
    "test_df[\"length\"] = test_df[\"TEXT\"].apply(lambda x: len(x.split()))\n",
    "test_df.sort_values(by=\"length\", inplace=True)"
   ]
  },
  {
   "attachments": {},
   "cell_type": "markdown",
   "metadata": {},
   "source": [
    "**Pre-train word embeddings (Excluded this step, as pretrained BERT doesn't need this)**"
   ]
  },
  {
   "attachments": {},
   "cell_type": "markdown",
   "metadata": {},
   "source": [
    "****Filter Top 50 ICD codes****"
   ]
  },
  {
   "cell_type": "code",
   "execution_count": 39,
   "metadata": {},
   "outputs": [
    {
     "name": "stdout",
     "output_type": "stream",
     "text": [
      "top codes: ['401.9', '38.93', '428.0', '427.31', '414.01', '96.04', '96.6', '584.9', '250.00', '96.71', '272.4', '518.81', '99.04', '39.61', '599.0', '96.72', '530.81', '272.0', '88.56', '285.9', '486', '38.91', '244.9', '36.15', '99.15', '285.1', '496', '276.2', '507.0', '88.72', '995.92', 'V58.61', '038.9', '37.22', '33.24', '311', '39.95', '585.9', '403.90', '305.1', '412', '410.71', '287.5', '276.1', '424.0', '45.13', 'V45.81', '37.23', '511.9', '93.90']\n"
     ]
    }
   ],
   "source": [
    "top_x = 50\n",
    "code_count = {}\n",
    "##count # times a code appeared in the full notes data\n",
    "for i in range(len(notes_codes_df)):\n",
    "    codes = notes_codes_df.iloc[i]['ICD9_CODE'].split(';')\n",
    "    for code in codes:\n",
    "        if code not in code_count:\n",
    "            code_count[code] = 1\n",
    "        else:\n",
    "            code_count[code] += 1\n",
    "\n",
    "##sort the codes based on their counts\n",
    "sorted_code_count = sorted(code_count.items(), key=lambda x: x[1], reverse=True)\n",
    "\n",
    "##get the top x codes\n",
    "top_x_codes = [code[0] for code in sorted_code_count[:top_x]]\n",
    "\n",
    "print(\"top codes:\", top_x_codes)\n",
    "\n",
    "\n",
    "\n"
   ]
  },
  {
   "cell_type": "code",
   "execution_count": 43,
   "metadata": {},
   "outputs": [
    {
     "name": "stderr",
     "output_type": "stream",
     "text": [
      "C:\\Users\\harsh\\AppData\\Local\\Temp\\ipykernel_20164\\1185438997.py:10: SettingWithCopyWarning: \n",
      "A value is trying to be set on a copy of a slice from a DataFrame.\n",
      "Try using .loc[row_indexer,col_indexer] = value instead\n",
      "\n",
      "See the caveats in the documentation: https://pandas.pydata.org/pandas-docs/stable/user_guide/indexing.html#returning-a-view-versus-a-copy\n",
      "  df['ICD9_CODE'] = df['ICD9_CODE'].apply(lambda x: filter_codes(x, top_x_codes))\n"
     ]
    }
   ],
   "source": [
    "##filter train, dev, test data based on top x codes\n",
    "def filter_codes(x, top_x_codes):\n",
    "    codes = x.split(';')\n",
    "    filtered_codes = [code for code in codes if code in top_x_codes]\n",
    "    return ';'.join(filtered_codes)\n",
    "\n",
    "dffss = [train_df, dev_df, test_df]\n",
    "\n",
    "for df in dffss:\n",
    "    df['ICD9_CODE'] = df['ICD9_CODE'].apply(lambda x: filter_codes(x, top_x_codes))\n",
    "\n"
   ]
  },
  {
   "cell_type": "code",
   "execution_count": 63,
   "metadata": {},
   "outputs": [],
   "source": [
    "##remove empty code rows\n",
    "train_df = train_df[train_df['ICD9_CODE'] != '']\n",
    "dev_df = dev_df[dev_df['ICD9_CODE'] != '']\n",
    "test_df = test_df[test_df['ICD9_CODE'] != '']\n",
    "\n",
    "\n",
    "##save train, dev, test data to csv\n",
    "train_df.to_csv('MIMIC_DATA/train_ds_notes.csv', index=False)\n",
    "dev_df.to_csv('MIMIC_DATA/dev_ds_notes.csv', index=False)\n",
    "test_df.to_csv('MIMIC_DATA/test_ds_notes.csv', index=False)\n"
   ]
  },
  {
   "cell_type": "code",
   "execution_count": 66,
   "metadata": {},
   "outputs": [
    {
     "name": "stdout",
     "output_type": "stream",
     "text": [
      "length of train data:  44998\n",
      "length of dev data:  5633\n",
      "length of test data:  5638\n"
     ]
    }
   ],
   "source": [
    "###length of train, dev, test data\n",
    "print(\"length of train data: \", len(train_df))\n",
    "print(\"length of dev data: \", len(dev_df))\n",
    "print(\"length of test data: \", len(test_df))"
   ]
  },
  {
   "cell_type": "code",
   "execution_count": 67,
   "metadata": {},
   "outputs": [],
   "source": [
    "##save top x codes to file\n",
    "with open('MIMIC_DATA/top_x_codes.txt', 'w') as f:\n",
    "    for code in top_x_codes:\n",
    "        f.write(f'{code}\\n')"
   ]
  },
  {
   "cell_type": "code",
   "execution_count": 68,
   "metadata": {},
   "outputs": [
    {
     "data": {
      "text/html": [
       "<div>\n",
       "<style scoped>\n",
       "    .dataframe tbody tr th:only-of-type {\n",
       "        vertical-align: middle;\n",
       "    }\n",
       "\n",
       "    .dataframe tbody tr th {\n",
       "        vertical-align: top;\n",
       "    }\n",
       "\n",
       "    .dataframe thead th {\n",
       "        text-align: right;\n",
       "    }\n",
       "</style>\n",
       "<table border=\"1\" class=\"dataframe\">\n",
       "  <thead>\n",
       "    <tr style=\"text-align: right;\">\n",
       "      <th></th>\n",
       "      <th>SUBJECT_ID</th>\n",
       "      <th>HADM_ID</th>\n",
       "      <th>TEXT</th>\n",
       "      <th>ICD9_CODE</th>\n",
       "      <th>length</th>\n",
       "    </tr>\n",
       "  </thead>\n",
       "  <tbody>\n",
       "    <tr>\n",
       "      <th>28356</th>\n",
       "      <td>23057</td>\n",
       "      <td>127445</td>\n",
       "      <td>\"admission date discharge date date of birth s...</td>\n",
       "      <td>424.0;427.31;39.61;37.23;88.56</td>\n",
       "      <td>27</td>\n",
       "    </tr>\n",
       "    <tr>\n",
       "      <th>11792</th>\n",
       "      <td>9554</td>\n",
       "      <td>119712</td>\n",
       "      <td>\"admission date discharge date date of birth s...</td>\n",
       "      <td>401.9</td>\n",
       "      <td>28</td>\n",
       "    </tr>\n",
       "    <tr>\n",
       "      <th>26002</th>\n",
       "      <td>21126</td>\n",
       "      <td>124750</td>\n",
       "      <td>\"admission date discharge date date of birth s...</td>\n",
       "      <td>584.9;285.9;38.93</td>\n",
       "      <td>29</td>\n",
       "    </tr>\n",
       "    <tr>\n",
       "      <th>11831</th>\n",
       "      <td>9588</td>\n",
       "      <td>100041</td>\n",
       "      <td>\"admission date discharge date date of birth s...</td>\n",
       "      <td>414.01;412;496;244.9;401.9;36.15;39.61</td>\n",
       "      <td>31</td>\n",
       "    </tr>\n",
       "    <tr>\n",
       "      <th>14922</th>\n",
       "      <td>12004</td>\n",
       "      <td>180993</td>\n",
       "      <td>\"admission date discharge date date of birth s...</td>\n",
       "      <td>285.9;305.1;45.13</td>\n",
       "      <td>33</td>\n",
       "    </tr>\n",
       "    <tr>\n",
       "      <th>...</th>\n",
       "      <td>...</td>\n",
       "      <td>...</td>\n",
       "      <td>...</td>\n",
       "      <td>...</td>\n",
       "      <td>...</td>\n",
       "    </tr>\n",
       "    <tr>\n",
       "      <th>35873</th>\n",
       "      <td>29299</td>\n",
       "      <td>120896</td>\n",
       "      <td>\"admission date discharge date date of birth s...</td>\n",
       "      <td>038.9;599.0;518.81;584.9;285.1;V58.61;250.00;9...</td>\n",
       "      <td>5810</td>\n",
       "    </tr>\n",
       "    <tr>\n",
       "      <th>49870</th>\n",
       "      <td>70425</td>\n",
       "      <td>150284</td>\n",
       "      <td>\"admission date discharge date date of birth s...</td>\n",
       "      <td>507.0;518.81;272.4;305.1;530.81;96.72;96.6</td>\n",
       "      <td>6311</td>\n",
       "    </tr>\n",
       "    <tr>\n",
       "      <th>42605</th>\n",
       "      <td>48872</td>\n",
       "      <td>138211</td>\n",
       "      <td>\"admission date discharge date date of birth s...</td>\n",
       "      <td>507.0;584.9;276.2;96.72;39.95;33.24;33.24;45.13</td>\n",
       "      <td>6393</td>\n",
       "    </tr>\n",
       "    <tr>\n",
       "      <th>7375</th>\n",
       "      <td>5962</td>\n",
       "      <td>186417</td>\n",
       "      <td>\"admission date discharge date date of birth s...</td>\n",
       "      <td>038.9;511.9;285.1;995.92;99.15;96.6</td>\n",
       "      <td>6404</td>\n",
       "    </tr>\n",
       "    <tr>\n",
       "      <th>48657</th>\n",
       "      <td>66807</td>\n",
       "      <td>166588</td>\n",
       "      <td>\"admission date discharge date date of birth s...</td>\n",
       "      <td>599.0;428.0;427.31;424.0;403.90;585.9;272.4;88...</td>\n",
       "      <td>7280</td>\n",
       "    </tr>\n",
       "  </tbody>\n",
       "</table>\n",
       "<p>5638 rows × 5 columns</p>\n",
       "</div>"
      ],
      "text/plain": [
       "       SUBJECT_ID  HADM_ID                                               TEXT  \\\n",
       "28356       23057   127445  \"admission date discharge date date of birth s...   \n",
       "11792        9554   119712  \"admission date discharge date date of birth s...   \n",
       "26002       21126   124750  \"admission date discharge date date of birth s...   \n",
       "11831        9588   100041  \"admission date discharge date date of birth s...   \n",
       "14922       12004   180993  \"admission date discharge date date of birth s...   \n",
       "...           ...      ...                                                ...   \n",
       "35873       29299   120896  \"admission date discharge date date of birth s...   \n",
       "49870       70425   150284  \"admission date discharge date date of birth s...   \n",
       "42605       48872   138211  \"admission date discharge date date of birth s...   \n",
       "7375         5962   186417  \"admission date discharge date date of birth s...   \n",
       "48657       66807   166588  \"admission date discharge date date of birth s...   \n",
       "\n",
       "                                               ICD9_CODE  length  \n",
       "28356                     424.0;427.31;39.61;37.23;88.56      27  \n",
       "11792                                              401.9      28  \n",
       "26002                                  584.9;285.9;38.93      29  \n",
       "11831             414.01;412;496;244.9;401.9;36.15;39.61      31  \n",
       "14922                                  285.9;305.1;45.13      33  \n",
       "...                                                  ...     ...  \n",
       "35873  038.9;599.0;518.81;584.9;285.1;V58.61;250.00;9...    5810  \n",
       "49870         507.0;518.81;272.4;305.1;530.81;96.72;96.6    6311  \n",
       "42605    507.0;584.9;276.2;96.72;39.95;33.24;33.24;45.13    6393  \n",
       "7375                 038.9;511.9;285.1;995.92;99.15;96.6    6404  \n",
       "48657  599.0;428.0;427.31;424.0;403.90;585.9;272.4;88...    7280  \n",
       "\n",
       "[5638 rows x 5 columns]"
      ]
     },
     "execution_count": 68,
     "metadata": {},
     "output_type": "execute_result"
    }
   ],
   "source": [
    "test_df"
   ]
  },
  {
   "cell_type": "code",
   "execution_count": 69,
   "metadata": {},
   "outputs": [
    {
     "data": {
      "text/html": [
       "<div>\n",
       "<style scoped>\n",
       "    .dataframe tbody tr th:only-of-type {\n",
       "        vertical-align: middle;\n",
       "    }\n",
       "\n",
       "    .dataframe tbody tr th {\n",
       "        vertical-align: top;\n",
       "    }\n",
       "\n",
       "    .dataframe thead th {\n",
       "        text-align: right;\n",
       "    }\n",
       "</style>\n",
       "<table border=\"1\" class=\"dataframe\">\n",
       "  <thead>\n",
       "    <tr style=\"text-align: right;\">\n",
       "      <th></th>\n",
       "      <th>SUBJECT_ID</th>\n",
       "      <th>HADM_ID</th>\n",
       "      <th>TEXT</th>\n",
       "      <th>ICD9_CODE</th>\n",
       "    </tr>\n",
       "  </thead>\n",
       "  <tbody>\n",
       "    <tr>\n",
       "      <th>11792</th>\n",
       "      <td>9554</td>\n",
       "      <td>119712</td>\n",
       "      <td>\"admission date discharge date date of birth s...</td>\n",
       "      <td>707.8;401.9;V43.64;V43.65;431;714.0;13.9</td>\n",
       "    </tr>\n",
       "    <tr>\n",
       "      <th>11793</th>\n",
       "      <td>9554</td>\n",
       "      <td>119712</td>\n",
       "      <td>\"admission date discharge date date of birth s...</td>\n",
       "      <td>707.8;401.9;V43.64;V43.65;431;714.0;13.9</td>\n",
       "    </tr>\n",
       "  </tbody>\n",
       "</table>\n",
       "</div>"
      ],
      "text/plain": [
       "       SUBJECT_ID  HADM_ID                                               TEXT  \\\n",
       "11792        9554   119712  \"admission date discharge date date of birth s...   \n",
       "11793        9554   119712  \"admission date discharge date date of birth s...   \n",
       "\n",
       "                                      ICD9_CODE  \n",
       "11792  707.8;401.9;V43.64;V43.65;431;714.0;13.9  \n",
       "11793  707.8;401.9;V43.64;V43.65;431;714.0;13.9  "
      ]
     },
     "execution_count": 69,
     "metadata": {},
     "output_type": "execute_result"
    }
   ],
   "source": [
    "notes_codes_df[notes_codes_df['HADM_ID'] == 119712]"
   ]
  }
 ],
 "metadata": {
  "kernelspec": {
   "display_name": "3bmi771",
   "language": "python",
   "name": "python3"
  },
  "language_info": {
   "codemirror_mode": {
    "name": "ipython",
    "version": 3
   },
   "file_extension": ".py",
   "mimetype": "text/x-python",
   "name": "python",
   "nbconvert_exporter": "python",
   "pygments_lexer": "ipython3",
   "version": "3.9.13"
  },
  "orig_nbformat": 4
 },
 "nbformat": 4,
 "nbformat_minor": 2
}
