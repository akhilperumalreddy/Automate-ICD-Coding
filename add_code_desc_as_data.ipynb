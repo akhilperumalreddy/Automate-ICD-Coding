{
 "cells": [
  {
   "cell_type": "code",
   "execution_count": 20,
   "metadata": {},
   "outputs": [],
   "source": [
    "import numpy as np\n",
    "import pandas as pd\n",
    "import sys\n",
    "import datasets\n",
    "import matplotlib\n",
    "import openpyxl\n",
    "from nltk.tokenize import RegexpTokenizer"
   ]
  },
  {
   "attachments": {},
   "cell_type": "markdown",
   "metadata": {},
   "source": [
    "##### Compare all_code file of SELF and PLM data"
   ]
  },
  {
   "cell_type": "code",
   "execution_count": 21,
   "metadata": {},
   "outputs": [
    {
     "data": {
      "text/plain": [
       "'\\nall_ours = pd.read_csv(\\'./PLM-ICD-master/data/mimic3/ALL_ICD_CODES.txt\\', header = None)[0]\\nall_plm = pd.read_csv(\"./PLM-ICD-master/data/mimic3/ALL_CODES.txt\", header = None)[0]\\nprint(\\'The number of codes in ours and plm all_code files are: \\', len(all_ours),\\' and \\',len(all_plm))\\n'"
      ]
     },
     "execution_count": 21,
     "metadata": {},
     "output_type": "execute_result"
    }
   ],
   "source": [
    "\"\"\"\n",
    "all_ours = pd.read_csv('./PLM-ICD-master/data/mimic3/ALL_ICD_CODES.txt', header = None)[0]\n",
    "all_plm = pd.read_csv(\"./PLM-ICD-master/data/mimic3/ALL_CODES.txt\", header = None)[0]\n",
    "print('The number of codes in ours and plm all_code files are: ', len(all_ours),' and ',len(all_plm))\n",
    "\"\"\""
   ]
  },
  {
   "cell_type": "code",
   "execution_count": 22,
   "metadata": {},
   "outputs": [
    {
     "data": {
      "text/plain": [
       "\"\\nprint(sum(1-all_ours.isin(all_plm)), 'of our codes are not in plm all_code')\\nprint(sum(1-all_plm.isin(all_ours)), 'of plm codes are not in our all_code')\\n\""
      ]
     },
     "execution_count": 22,
     "metadata": {},
     "output_type": "execute_result"
    }
   ],
   "source": [
    "\"\"\"\n",
    "print(sum(1-all_ours.isin(all_plm)), 'of our codes are not in plm all_code')\n",
    "print(sum(1-all_plm.isin(all_ours)), 'of plm codes are not in our all_code')\n",
    "\"\"\""
   ]
  },
  {
   "cell_type": "code",
   "execution_count": 23,
   "metadata": {},
   "outputs": [],
   "source": [
    "\n",
    "#################### process SELF curated data\n",
    "all_code_txt = './PLM-ICD-master/data/mimic3/ALL_ICD_CODES.txt'\n",
    "train_csv = 'PLM-ICD-master/data/mimic3/train_notes_pv1_full_trimmed.csv'\n",
    "dev_csv = 'PLM-ICD-master/data/mimic3/dev_notes_pv1_full_trimmed.csv'\n",
    "test_csv = 'PLM-ICD-master/data/mimic3/test_notes_pv1_full_trimmed.csv'\n",
    "path = 'PLM-ICD-master/data/mimic3'\n",
    "\n",
    "text_colname = 'text'\n",
    "label_colname = 'label'\n"
   ]
  },
  {
   "cell_type": "code",
   "execution_count": 24,
   "metadata": {},
   "outputs": [
    {
     "data": {
      "text/plain": [
       "'\\n#################### process CAML curated data\\nall_code_txt = \"./PLM-ICD-master/data/mimic3/ALL_CODES.txt\"\\ntrain_csv = \"./caml-mimic-master/mimicdata/mimic3/train_full_trimmed.csv\"\\ndev_csv = \"./caml-mimic-master/mimicdata/mimic3/dev_full_trimmed.csv\"\\ntest_csv = \"./caml-mimic-master/mimicdata/mimic3/test_full_trimmed.csv\"\\npath = \"./caml-mimic-master/mimicdata/mimic3\"\\n\\n#text_colname = \\'TEXT\\'\\n#label_colname = \\'LABELS\\'\\ntext_colname = \\'text\\'\\nlabel_colname = \\'label\\'\\n'"
      ]
     },
     "execution_count": 24,
     "metadata": {},
     "output_type": "execute_result"
    }
   ],
   "source": [
    "\"\"\"\n",
    "#################### process CAML curated data\n",
    "all_code_txt = \"./PLM-ICD-master/data/mimic3/ALL_CODES.txt\"\n",
    "train_csv = \"./caml-mimic-master/mimicdata/mimic3/train_full_trimmed.csv\"\n",
    "dev_csv = \"./caml-mimic-master/mimicdata/mimic3/dev_full_trimmed.csv\"\n",
    "test_csv = \"./caml-mimic-master/mimicdata/mimic3/test_full_trimmed.csv\"\n",
    "path = \"./caml-mimic-master/mimicdata/mimic3\"\n",
    "\n",
    "#text_colname = 'TEXT'\n",
    "#label_colname = 'LABELS'\n",
    "text_colname = 'text'\n",
    "label_colname = 'label'\n",
    "\"\"\""
   ]
  },
  {
   "attachments": {},
   "cell_type": "markdown",
   "metadata": {},
   "source": [
    "##### reformat ICD codes in Code Definition File"
   ]
  },
  {
   "cell_type": "code",
   "execution_count": 25,
   "metadata": {},
   "outputs": [],
   "source": [
    "def reformat(code, is_diag): ## leveraged from caml-mimic (for adding periods (dots) to ICD codes)\n",
    "    \"\"\"\n",
    "        Put a period in the right place because the MIMIC-3 data files exclude them.\n",
    "        Generally, procedure codes have dots after the first two digits, \n",
    "        while diagnosis codes have dots after the first three digits.\n",
    "    \"\"\"\n",
    "    code = ''.join(code.split('.'))\n",
    "    if is_diag:\n",
    "        if code.startswith('E'):\n",
    "            if len(code) > 4:\n",
    "                code = code[:4] + '.' + code[4:]\n",
    "        else:\n",
    "            if len(code) > 3:\n",
    "                code = code[:3] + '.' + code[3:]\n",
    "    else:\n",
    "        code = code[:2] + '.' + code[2:]\n",
    "    return code\n",
    "    \n",
    "def tokenize_lower_nonnum(text):\n",
    "    tokenizer = RegexpTokenizer(r'\\w+')\n",
    "    updated_text = [token.lower() for token in tokenizer.tokenize(text) if not token.isnumeric()]\n",
    "    updated_text = '\"'+ ' '.join(updated_text) + '\"'\n",
    "    return updated_text    "
   ]
  },
  {
   "cell_type": "code",
   "execution_count": 26,
   "metadata": {},
   "outputs": [],
   "source": [
    "icd_dx = pd.read_excel(\"phecode_map/CMS32_DESC_LONG_SHORT_DX.xlsx\", dtype='str')\n",
    "icd_sg = pd.read_excel(\"phecode_map/CMS32_DESC_LONG_SHORT_SG.xlsx\", dtype='str')"
   ]
  },
  {
   "cell_type": "code",
   "execution_count": 27,
   "metadata": {},
   "outputs": [],
   "source": [
    "## reformat codes\n",
    "icd_dx['CODE'] = icd_dx['DIAGNOSIS CODE'].apply(lambda x: reformat(str(x), True))\n",
    "icd_sg['CODE'] = icd_sg['PROCEDURE CODE'].apply(lambda x: reformat(str(x), False))\n",
    "icd_all = pd.concat([icd_dx[['CODE','SHORT DESCRIPTION','LONG DESCRIPTION']],icd_sg[['CODE','SHORT DESCRIPTION','LONG DESCRIPTION']]])"
   ]
  },
  {
   "attachments": {},
   "cell_type": "markdown",
   "metadata": {},
   "source": [
    "##### Exclude codes not used in mimic data"
   ]
  },
  {
   "cell_type": "code",
   "execution_count": 28,
   "metadata": {},
   "outputs": [
    {
     "name": "stdout",
     "output_type": "stream",
     "text": [
      "8593 out of 8907 ICD9 codes are matched with descriptions.\n"
     ]
    }
   ],
   "source": [
    "mimic3_codes = pd.read_csv(all_code_txt, header = None)[0]\n",
    "temp = mimic3_codes[mimic3_codes.isin(icd_all.CODE)]\n",
    "print(len(temp), 'out of', len(mimic3_codes), 'ICD9 codes are matched with descriptions.')\n",
    "icd_all = icd_all[icd_all.CODE.isin(mimic3_codes)]"
   ]
  },
  {
   "attachments": {},
   "cell_type": "markdown",
   "metadata": {},
   "source": [
    "##### Combine short and long descriptions"
   ]
  },
  {
   "cell_type": "code",
   "execution_count": 29,
   "metadata": {},
   "outputs": [],
   "source": [
    "icd_all['description'] = [' '.join(icd_all.iloc[i,[1, 2]]) for i in range(len(icd_all))]"
   ]
  },
  {
   "cell_type": "code",
   "execution_count": 30,
   "metadata": {},
   "outputs": [
    {
     "name": "stderr",
     "output_type": "stream",
     "text": [
      "/u/x/i/xianshi/miniconda3/envs/bert_hw/lib/python3.7/site-packages/ipykernel_launcher.py:4: SettingWithCopyWarning: \n",
      "A value is trying to be set on a copy of a slice from a DataFrame.\n",
      "Try using .loc[row_indexer,col_indexer] = value instead\n",
      "\n",
      "See the caveats in the documentation: https://pandas.pydata.org/pandas-docs/stable/user_guide/indexing.html#returning-a-view-versus-a-copy\n",
      "  after removing the cwd from sys.path.\n",
      "/u/x/i/xianshi/miniconda3/envs/bert_hw/lib/python3.7/site-packages/ipykernel_launcher.py:5: SettingWithCopyWarning: \n",
      "A value is trying to be set on a copy of a slice from a DataFrame.\n",
      "Try using .loc[row_indexer,col_indexer] = value instead\n",
      "\n",
      "See the caveats in the documentation: https://pandas.pydata.org/pandas-docs/stable/user_guide/indexing.html#returning-a-view-versus-a-copy\n",
      "  \"\"\"\n",
      "/u/x/i/xianshi/miniconda3/envs/bert_hw/lib/python3.7/site-packages/pandas/util/_decorators.py:311: SettingWithCopyWarning: \n",
      "A value is trying to be set on a copy of a slice from a DataFrame\n",
      "\n",
      "See the caveats in the documentation: https://pandas.pydata.org/pandas-docs/stable/user_guide/indexing.html#returning-a-view-versus-a-copy\n",
      "  return func(*args, **kwargs)\n",
      "/u/x/i/xianshi/miniconda3/envs/bert_hw/lib/python3.7/site-packages/pandas/core/frame.py:5047: SettingWithCopyWarning: \n",
      "A value is trying to be set on a copy of a slice from a DataFrame\n",
      "\n",
      "See the caveats in the documentation: https://pandas.pydata.org/pandas-docs/stable/user_guide/indexing.html#returning-a-view-versus-a-copy\n",
      "  errors=errors,\n"
     ]
    },
    {
     "data": {
      "text/html": [
       "<div>\n",
       "<style scoped>\n",
       "    .dataframe tbody tr th:only-of-type {\n",
       "        vertical-align: middle;\n",
       "    }\n",
       "\n",
       "    .dataframe tbody tr th {\n",
       "        vertical-align: top;\n",
       "    }\n",
       "\n",
       "    .dataframe thead th {\n",
       "        text-align: right;\n",
       "    }\n",
       "</style>\n",
       "<table border=\"1\" class=\"dataframe\">\n",
       "  <thead>\n",
       "    <tr style=\"text-align: right;\">\n",
       "      <th></th>\n",
       "      <th>SUBJECT_ID</th>\n",
       "      <th>HADM_ID</th>\n",
       "      <th>text</th>\n",
       "      <th>label</th>\n",
       "      <th>length</th>\n",
       "    </tr>\n",
       "  </thead>\n",
       "  <tbody>\n",
       "    <tr>\n",
       "      <th>9292</th>\n",
       "      <td></td>\n",
       "      <td></td>\n",
       "      <td>\"dysphonia dysphonia\"</td>\n",
       "      <td>784.42</td>\n",
       "      <td>2</td>\n",
       "    </tr>\n",
       "    <tr>\n",
       "      <th>9560</th>\n",
       "      <td></td>\n",
       "      <td></td>\n",
       "      <td>\"hypoxemia hypoxemia\"</td>\n",
       "      <td>799.02</td>\n",
       "      <td>2</td>\n",
       "    </tr>\n",
       "  </tbody>\n",
       "</table>\n",
       "</div>"
      ],
      "text/plain": [
       "     SUBJECT_ID HADM_ID                   text   label  length\n",
       "9292                     \"dysphonia dysphonia\"  784.42       2\n",
       "9560                     \"hypoxemia hypoxemia\"  799.02       2"
      ]
     },
     "execution_count": 30,
     "metadata": {},
     "output_type": "execute_result"
    }
   ],
   "source": [
    "icd_all['SUBJECT_ID']=''\n",
    "icd_all['HADM_ID']=''\n",
    "icd_alll = icd_all[['SUBJECT_ID', 'HADM_ID', 'description', 'CODE']]\n",
    "icd_alll['description'] = icd_alll['description'].apply(lambda x: tokenize_lower_nonnum(x)) ## tokenize, lower case, remove numbers\n",
    "icd_alll[\"length\"] = icd_alll['description'].apply(lambda x: len(x.split()))\n",
    "icd_alll.sort_values(by=\"length\", inplace=True)\n",
    "icd_alll.rename(columns={\"CODE\": label_colname, \"description\": text_colname}, inplace=True)\n",
    "##save code description in training data format\n",
    "icd_alll.to_csv(path+'/code_desc.csv', index=False)\n",
    "icd_alll[0:2]"
   ]
  },
  {
   "cell_type": "code",
   "execution_count": 31,
   "metadata": {},
   "outputs": [],
   "source": [
    "icd_all['description'] = [''.join(['dictionary ',t]) for t in icd_all.description]\n",
    "icd_all['description'] = icd_all['description'].apply(lambda x: tokenize_lower_nonnum(x)) ## tokenize, lower case, remove numbers"
   ]
  },
  {
   "cell_type": "code",
   "execution_count": 32,
   "metadata": {},
   "outputs": [
    {
     "data": {
      "text/plain": [
       "<bound method NDFrame.head of        CODE         SHORT DESCRIPTION                       LONG DESCRIPTION  \\\n",
       "8     003.0      Salmonella enteritis             Salmonella gastroenteritis   \n",
       "9     003.1     Salmonella septicemia                  Salmonella septicemia   \n",
       "16    003.8  Salmonella infection NEC  Other specified salmonella infections   \n",
       "17    003.9  Salmonella infection NOS      Salmonella infection, unspecified   \n",
       "19    004.1         Shigella flexneri                      Shigella flexneri   \n",
       "...     ...                       ...                                    ...   \n",
       "3868  99.83        Other phototherapy                     Other phototherapy   \n",
       "3869  99.84                 Isolation                              Isolation   \n",
       "3872  99.88  Therapeutc photopheresis              Therapeutic photopheresis   \n",
       "3877  99.95    Stretching of foreskin                 Stretching of foreskin   \n",
       "3881  99.99    Miscellaneous proc NEC         Other miscellaneous procedures   \n",
       "\n",
       "                                            description SUBJECT_ID HADM_ID  \n",
       "8     \"dictionary salmonella enteritis salmonella ga...                     \n",
       "9     \"dictionary salmonella septicemia salmonella s...                     \n",
       "16    \"dictionary salmonella infection nec other spe...                     \n",
       "17    \"dictionary salmonella infection nos salmonell...                     \n",
       "19     \"dictionary shigella flexneri shigella flexneri\"                     \n",
       "...                                                 ...        ...     ...  \n",
       "3868  \"dictionary other phototherapy other photother...                     \n",
       "3869                   \"dictionary isolation isolation\"                     \n",
       "3872  \"dictionary therapeutc photopheresis therapeut...                     \n",
       "3877  \"dictionary stretching of foreskin stretching ...                     \n",
       "3881  \"dictionary miscellaneous proc nec other misce...                     \n",
       "\n",
       "[8593 rows x 6 columns]>"
      ]
     },
     "execution_count": 32,
     "metadata": {},
     "output_type": "execute_result"
    }
   ],
   "source": [
    "icd_all.head"
   ]
  },
  {
   "attachments": {},
   "cell_type": "markdown",
   "metadata": {},
   "source": [
    "##### Add code descriptions to the training data"
   ]
  },
  {
   "cell_type": "code",
   "execution_count": 33,
   "metadata": {},
   "outputs": [],
   "source": [
    "train_ds_notes = pd.read_csv(train_csv)\n",
    "dev_ds_notes = pd.read_csv(dev_csv)\n",
    "test_ds_notes = pd.read_csv(test_csv)"
   ]
  },
  {
   "cell_type": "code",
   "execution_count": 34,
   "metadata": {},
   "outputs": [
    {
     "data": {
      "text/plain": [
       "<bound method NDFrame.head of        SUBJECT_ID  HADM_ID                                              label  \\\n",
       "0             158   169433               532.40;493.20;V45.81;412;401.9;44.43   \n",
       "1            2896   178124  211.3;427.31;578.9;560.1;496;584.9;428.0;276.5...   \n",
       "2            6495   139808  998.59;998.32;905.4;E929.0;041.85;86.22;86.69;...   \n",
       "3            3564   117638  038.49;041.6;785.59;518.81;507.0;592.1;591;276...   \n",
       "4            7995   190945               440.22;492.8;401.9;714.0;39.29;88.48   \n",
       "...           ...      ...                                                ...   \n",
       "47365       52139   137090  V58.11;486;205.00;277.88;038.9;995.92;785.52;4...   \n",
       "47366       17488   180176  276.9;038.8;518.81;286.6;585;780.39;255.4;531....   \n",
       "47367       16655   105131  320.3;996.81;428.0;599.0;038.11;421.0;995.92;4...   \n",
       "47368         339   112625  577.0;995.94;574.21;518.81;584.9;482.83;511.9;...   \n",
       "47369       25030   172599  431;331.4;996.81;403.91;707.0;250.81;780.39;51...   \n",
       "\n",
       "       length                                               text  \n",
       "0          51  `` admission date date date birth sex m servic...  \n",
       "1          55  `` known lastname known firstname unit no nume...  \n",
       "2          60  `` admission date date date birth sex m servic...  \n",
       "3          68  `` admission date date service doctor last med...  \n",
       "4          74  `` admission date date date birth sex f servic...  \n",
       "...       ...                                                ...  \n",
       "47365    7567  `` admission date date date birth sex m servic...  \n",
       "47366    7780  `` admission date date date birth sex f servic...  \n",
       "47367    7858  `` admission date date date birth sex f servic...  \n",
       "47368    8097  `` admission date date date birth sex f servic...  \n",
       "47369    8783  `` admission date date date birth sex service ...  \n",
       "\n",
       "[47370 rows x 5 columns]>"
      ]
     },
     "execution_count": 34,
     "metadata": {},
     "output_type": "execute_result"
    }
   ],
   "source": [
    "dffss = [train_ds_notes, dev_ds_notes, test_ds_notes]\n",
    "\n",
    "for df in dffss:\n",
    "    df = df[df[label_colname] != 'nan']\n",
    "    df[text_colname] = [' '.join(['\"summary', t[1:]]) for t in df[text_colname]]\n",
    "    df[\"length\"] = df[text_colname].apply(lambda x: len(x.split()))\n",
    "\n",
    "train_ds_notes.head"
   ]
  },
  {
   "cell_type": "code",
   "execution_count": 35,
   "metadata": {},
   "outputs": [],
   "source": [
    "icd_all.rename(columns={\"CODE\": label_colname, \"description\": text_colname}, inplace=True)"
   ]
  },
  {
   "cell_type": "code",
   "execution_count": 36,
   "metadata": {},
   "outputs": [],
   "source": [
    "train_ds_notes_aug = pd.concat([train_ds_notes, icd_all[[text_colname,label_colname]]])\n",
    "train_ds_notes_aug[\"length\"] = train_ds_notes_aug[text_colname].apply(lambda x: len(x.split()))\n",
    "train_ds_notes_aug.sort_values(by=\"length\", inplace=True)"
   ]
  },
  {
   "cell_type": "code",
   "execution_count": 37,
   "metadata": {},
   "outputs": [
    {
     "data": {
      "text/html": [
       "<div>\n",
       "<style scoped>\n",
       "    .dataframe tbody tr th:only-of-type {\n",
       "        vertical-align: middle;\n",
       "    }\n",
       "\n",
       "    .dataframe tbody tr th {\n",
       "        vertical-align: top;\n",
       "    }\n",
       "\n",
       "    .dataframe thead th {\n",
       "        text-align: right;\n",
       "    }\n",
       "</style>\n",
       "<table border=\"1\" class=\"dataframe\">\n",
       "  <thead>\n",
       "    <tr style=\"text-align: right;\">\n",
       "      <th></th>\n",
       "      <th>SUBJECT_ID</th>\n",
       "      <th>HADM_ID</th>\n",
       "      <th>label</th>\n",
       "      <th>length</th>\n",
       "      <th>text</th>\n",
       "    </tr>\n",
       "  </thead>\n",
       "  <tbody>\n",
       "    <tr>\n",
       "      <th>9291</th>\n",
       "      <td>NaN</td>\n",
       "      <td>NaN</td>\n",
       "      <td>784.41</td>\n",
       "      <td>3</td>\n",
       "      <td>\"dictionary aphonia aphonia\"</td>\n",
       "    </tr>\n",
       "    <tr>\n",
       "      <th>8693</th>\n",
       "      <td>NaN</td>\n",
       "      <td>NaN</td>\n",
       "      <td>750.16</td>\n",
       "      <td>3</td>\n",
       "      <td>\"dictionary microglossia microglossia\"</td>\n",
       "    </tr>\n",
       "    <tr>\n",
       "      <th>2489</th>\n",
       "      <td>NaN</td>\n",
       "      <td>NaN</td>\n",
       "      <td>272.7</td>\n",
       "      <td>3</td>\n",
       "      <td>\"dictionary lipidoses lipidoses\"</td>\n",
       "    </tr>\n",
       "    <tr>\n",
       "      <th>2488</th>\n",
       "      <td>NaN</td>\n",
       "      <td>NaN</td>\n",
       "      <td>272.6</td>\n",
       "      <td>3</td>\n",
       "      <td>\"dictionary lipodystrophy lipodystrophy\"</td>\n",
       "    </tr>\n",
       "    <tr>\n",
       "      <th>8746</th>\n",
       "      <td>NaN</td>\n",
       "      <td>NaN</td>\n",
       "      <td>752.61</td>\n",
       "      <td>3</td>\n",
       "      <td>\"dictionary hypospadias hypospadias\"</td>\n",
       "    </tr>\n",
       "  </tbody>\n",
       "</table>\n",
       "</div>"
      ],
      "text/plain": [
       "      SUBJECT_ID  HADM_ID   label  length  \\\n",
       "9291         NaN      NaN  784.41       3   \n",
       "8693         NaN      NaN  750.16       3   \n",
       "2489         NaN      NaN   272.7       3   \n",
       "2488         NaN      NaN   272.6       3   \n",
       "8746         NaN      NaN  752.61       3   \n",
       "\n",
       "                                          text  \n",
       "9291              \"dictionary aphonia aphonia\"  \n",
       "8693    \"dictionary microglossia microglossia\"  \n",
       "2489          \"dictionary lipidoses lipidoses\"  \n",
       "2488  \"dictionary lipodystrophy lipodystrophy\"  \n",
       "8746      \"dictionary hypospadias hypospadias\"  "
      ]
     },
     "execution_count": 37,
     "metadata": {},
     "output_type": "execute_result"
    }
   ],
   "source": [
    "len(train_ds_notes_aug)\n",
    "train_ds_notes_aug[0:5]"
   ]
  },
  {
   "cell_type": "code",
   "execution_count": 38,
   "metadata": {},
   "outputs": [],
   "source": [
    "##save train, dev, test data to csv\n",
    "train_ds_notes_aug.to_csv(train_csv[:-4]+'_aug.csv', index=False)\n",
    "dev_ds_notes.to_csv(dev_csv[:-4]+'_aug.csv', index=False)\n",
    "test_ds_notes.to_csv(test_csv[:-4]+'_aug.csv', index=False)"
   ]
  }
 ],
 "metadata": {
  "kernelspec": {
   "display_name": "CS769",
   "language": "python",
   "name": "cs769"
  },
  "orig_nbformat": 4
 },
 "nbformat": 4,
 "nbformat_minor": 2
}
