{
 "cells": [
  {
   "cell_type": "code",
   "execution_count": 1,
   "metadata": {},
   "outputs": [],
   "source": [
    "import numpy as np\n",
    "import pandas as pd\n",
    "import sys\n",
    "sys.path.append('./caml-mimic-master')\n",
    "sys.path.append('./PLM-ICD-master/data/mimic3')\n",
    "import datasets\n",
    "import matplotlib"
   ]
  },
  {
   "attachments": {},
   "cell_type": "markdown",
   "metadata": {},
   "source": [
    "#### Preprocess ICD-to-phecode map file"
   ]
  },
  {
   "cell_type": "code",
   "execution_count": 6,
   "metadata": {},
   "outputs": [],
   "source": [
    "icd_phecode_map = pd.read_csv(\"phecode_map/ICD_phecode_map.txt\", sep=\" \", dtype = str)\n",
    "icd_phecode_map.sort_values(by = ['ICD', 'phecode_d1'], ascending = [True, False], inplace=True)\n",
    "temp = icd_phecode_map.duplicated(subset=['ICD'])\n",
    "icd_phecode_map = icd_phecode_map[~temp]\n",
    "icd_phecode_map = icd_phecode_map[icd_phecode_map.CODE_TYPE == '09']"
   ]
  },
  {
   "attachments": {},
   "cell_type": "markdown",
   "metadata": {},
   "source": [
    "#### Match phecode to all_codes.csv"
   ]
  },
  {
   "cell_type": "code",
   "execution_count": 7,
   "metadata": {},
   "outputs": [],
   "source": [
    "all_codes = pd.read_csv('PLM-ICD-master/data/mimic3/all_codes.csv')\n",
    "all_codes_phe = all_codes.merge(icd_phecode_map, how='left', left_on='ICD9_CODE', right_on='ICD')\n",
    "all_codes_phe.drop(['ICD_nodot', 'ICD', 'CODE_TYPE', 'coTypeCode', 'phecode'], axis=1, inplace= True)\n",
    "all_codes_phe.phecode_d1.isna().sum()/len(all_codes_phe.index)\n",
    "all_codes_phe.to_csv('PLM-ICD-master/data/mimic3/all_codes_w_phe.csv', index=False)"
   ]
  },
  {
   "attachments": {},
   "cell_type": "markdown",
   "metadata": {},
   "source": [
    "#### Match phecode to tain, dev, test files (full version)"
   ]
  },
  {
   "cell_type": "code",
   "execution_count": 2,
   "metadata": {},
   "outputs": [],
   "source": [
    "train_ds_notes = pd.read_csv('PLM-ICD-master/data/mimic3/train_ds_notes_full.csv')\n",
    "test_ds_notes = pd.read_csv('PLM-ICD-master/data/mimic3/test_ds_notes_full.csv')\n",
    "dev_ds_notes = pd.read_csv('PLM-ICD-master/data/mimic3/dev_ds_notes_full.csv')"
   ]
  },
  {
   "cell_type": "code",
   "execution_count": 9,
   "metadata": {},
   "outputs": [],
   "source": [
    "##create phecode list\n",
    "def match_phe_codes(x):\n",
    "    codes = x.split(';')\n",
    "    phe_codes = icd_phecode_map.phecode_d1[icd_phecode_map.ICD.isin(codes)]\n",
    "    return ';'.join(phe_codes) \n",
    "\n",
    "dffss = [train_ds_notes, dev_ds_notes, test_ds_notes]\n",
    "\n",
    "for df in dffss:\n",
    "    df['label'] = df['label'].astype(str)\n",
    "    df['PHEd1_CODE'] = df['label'].apply(lambda x: match_phe_codes(x))\n",
    "    df['n_PHEd1'] = df['PHEd1_CODE'].apply(lambda x: len(x.split(';')) if (len(x)>0) else 0)"
   ]
  },
  {
   "cell_type": "code",
   "execution_count": null,
   "metadata": {},
   "outputs": [],
   "source": [
    "train_ds_notes = train_ds_notes[train_ds_notes['n_PHEd1']> 0]\n",
    "test_ds_notes = test_ds_notes[test_ds_notes['n_PHEd1']> 0]\n",
    "dev_ds_notes = dev_ds_notes[dev_ds_notes['n_PHEd1']> 0]\n",
    "\n",
    "# rename and reorder columns\n",
    "train_ds_notes.rename(columns={\"TEXT\": \"sentence1\", \"PHEd1_CODE\": \"label\" , \"label\": \"ICD(_CODE)\"}, inplace=True)\n",
    "test_ds_notes.rename(columns={\"TEXT\": \"sentence1\", \"PHEd1_CODE\": \"label\", \"label\": \"ICD(_CODE)\"}, inplace=True)\n",
    "dev_ds_notes.rename(columns={\"TEXT\": \"sentence1\", \"PHEd1_CODE\": \"label\", \"label\": \"ICD(_CODE)\"}, inplace=True)\n",
    "\n",
    "train_ds_notes = train_ds_notes[['sentence1', 'label', 'SUBJECT_ID', 'HADM_ID', 'ICD9_CODE','length','n_PHEd1']]\n",
    "test_ds_notes = test_ds_notes[['sentence1', 'label', 'SUBJECT_ID', 'HADM_ID', 'ICD9_CODE','length','n_PHEd1']]\n",
    "dev_ds_notes = dev_ds_notes[['sentence1', 'label', 'SUBJECT_ID', 'HADM_ID', 'ICD9_CODE','length','n_PHEd1']]\n",
    "\n",
    "train_ds_notes.to_csv('PLM-ICD-master/data/mimic3/train_ds_full_w_phe.csv', index = False)\n",
    "test_ds_notes.to_csv('PLM-ICD-master/data/mimic3/test_ds_full_w_phe.csv', index = False)\n",
    "dev_ds_notes.to_csv('PLM-ICD-master/data/mimic3/dev_ds_full_w_phe.csv', index = False)"
   ]
  },
  {
   "cell_type": "code",
   "execution_count": 11,
   "metadata": {},
   "outputs": [
    {
     "name": "stdout",
     "output_type": "stream",
     "text": [
      "length of train data:  47714\n",
      "length of dev data:  5963\n",
      "length of test data:  5964\n"
     ]
    }
   ],
   "source": [
    "###length of train, dev, test data\n",
    "print(\"length of train data: \", len(train_ds_notes))\n",
    "print(\"length of dev data: \", len(dev_ds_notes))\n",
    "print(\"length of test data: \", len(test_ds_notes))"
   ]
  },
  {
   "cell_type": "code",
   "execution_count": 12,
   "metadata": {},
   "outputs": [
    {
     "data": {
      "text/html": [
       "<div>\n",
       "<style scoped>\n",
       "    .dataframe tbody tr th:only-of-type {\n",
       "        vertical-align: middle;\n",
       "    }\n",
       "\n",
       "    .dataframe tbody tr th {\n",
       "        vertical-align: top;\n",
       "    }\n",
       "\n",
       "    .dataframe thead th {\n",
       "        text-align: right;\n",
       "    }\n",
       "</style>\n",
       "<table border=\"1\" class=\"dataframe\">\n",
       "  <thead>\n",
       "    <tr style=\"text-align: right;\">\n",
       "      <th></th>\n",
       "      <th>sentence1</th>\n",
       "      <th>label</th>\n",
       "      <th>SUBJECT_ID</th>\n",
       "      <th>HADM_ID</th>\n",
       "      <th>ICD9_CODE</th>\n",
       "      <th>length</th>\n",
       "      <th>n_PHEd1</th>\n",
       "    </tr>\n",
       "  </thead>\n",
       "  <tbody>\n",
       "    <tr>\n",
       "      <th>0</th>\n",
       "      <td>\"admission date discharge date date of birth s...</td>\n",
       "      <td>250.2;276.5;285;250.6;401.1;411.4</td>\n",
       "      <td>17548</td>\n",
       "      <td>134871</td>\n",
       "      <td>414.01;276.5;250.60;357.2;401.9;285.9;36.13;36...</td>\n",
       "      <td>25</td>\n",
       "      <td>6</td>\n",
       "    </tr>\n",
       "    <tr>\n",
       "      <th>1</th>\n",
       "      <td>\"admission date discharge date date of birth s...</td>\n",
       "      <td>244.4;274.1;401.1;411.2;411.4;442.1;496;318</td>\n",
       "      <td>9588</td>\n",
       "      <td>100041</td>\n",
       "      <td>414.01;441.4;412;496;244.9;401.9;274.9;V15.82;...</td>\n",
       "      <td>31</td>\n",
       "      <td>8</td>\n",
       "    </tr>\n",
       "    <tr>\n",
       "      <th>2</th>\n",
       "      <td>\"admission date discharge date date of birth s...</td>\n",
       "      <td>038.2;401.2;415.2;428.1;496;509.1;081</td>\n",
       "      <td>4064</td>\n",
       "      <td>182461</td>\n",
       "      <td>518.81;403.91;996.62;038.10;428.0;496;416.8;E8...</td>\n",
       "      <td>34</td>\n",
       "      <td>7</td>\n",
       "    </tr>\n",
       "    <tr>\n",
       "      <th>3</th>\n",
       "      <td>\"admission date discharge date date of birth s...</td>\n",
       "      <td>285.1;401.2;428.1;447.1;600;854;411.4</td>\n",
       "      <td>15775</td>\n",
       "      <td>108010</td>\n",
       "      <td>996.74;428.0;403.91;285.1;E878.2;447.1;V45.81;...</td>\n",
       "      <td>34</td>\n",
       "      <td>7</td>\n",
       "    </tr>\n",
       "    <tr>\n",
       "      <th>4</th>\n",
       "      <td>\"admission date discharge date date of birth s...</td>\n",
       "      <td>041;285;290.2;317;401.1;411.2;501;586;695.4</td>\n",
       "      <td>17785</td>\n",
       "      <td>183076</td>\n",
       "      <td>410.01;303.91;291.0;507.0;285.9;401.9;593.9;04...</td>\n",
       "      <td>35</td>\n",
       "      <td>9</td>\n",
       "    </tr>\n",
       "  </tbody>\n",
       "</table>\n",
       "</div>"
      ],
      "text/plain": [
       "                                           sentence1  \\\n",
       "0  \"admission date discharge date date of birth s...   \n",
       "1  \"admission date discharge date date of birth s...   \n",
       "2  \"admission date discharge date date of birth s...   \n",
       "3  \"admission date discharge date date of birth s...   \n",
       "4  \"admission date discharge date date of birth s...   \n",
       "\n",
       "                                         label  SUBJECT_ID  HADM_ID  \\\n",
       "0            250.2;276.5;285;250.6;401.1;411.4       17548   134871   \n",
       "1  244.4;274.1;401.1;411.2;411.4;442.1;496;318        9588   100041   \n",
       "2        038.2;401.2;415.2;428.1;496;509.1;081        4064   182461   \n",
       "3        285.1;401.2;428.1;447.1;600;854;411.4       15775   108010   \n",
       "4  041;285;290.2;317;401.1;411.2;501;586;695.4       17785   183076   \n",
       "\n",
       "                                           ICD9_CODE  length  n_PHEd1  \n",
       "0  414.01;276.5;250.60;357.2;401.9;285.9;36.13;36...      25        6  \n",
       "1  414.01;441.4;412;496;244.9;401.9;274.9;V15.82;...      31        8  \n",
       "2  518.81;403.91;996.62;038.10;428.0;496;416.8;E8...      34        7  \n",
       "3  996.74;428.0;403.91;285.1;E878.2;447.1;V45.81;...      34        7  \n",
       "4  410.01;303.91;291.0;507.0;285.9;401.9;593.9;04...      35        9  "
      ]
     },
     "execution_count": 12,
     "metadata": {},
     "output_type": "execute_result"
    }
   ],
   "source": [
    "test_ds_notes.head()"
   ]
  },
  {
   "attachments": {},
   "cell_type": "markdown",
   "metadata": {},
   "source": [
    "#### Save all phecodes"
   ]
  },
  {
   "cell_type": "code",
   "execution_count": 13,
   "metadata": {},
   "outputs": [
    {
     "data": {
      "text/plain": [
       "1411"
      ]
     },
     "execution_count": 13,
     "metadata": {},
     "output_type": "execute_result"
    }
   ],
   "source": [
    "all_ds_notes = pd.concat([train_ds_notes, test_ds_notes, dev_ds_notes])\n",
    "ALL_PHE_CODES = all_ds_notes.label\n",
    "ALL_PHE_CODES = ALL_PHE_CODES[ALL_PHE_CODES != '']\n",
    "ALL_PHE_CODES = ALL_PHE_CODES.apply(lambda x: x.split(';')).explode().unique()\n",
    "len(ALL_PHE_CODES)"
   ]
  },
  {
   "cell_type": "code",
   "execution_count": 65,
   "metadata": {},
   "outputs": [],
   "source": [
    "pd.Series(ALL_PHE_CODES).to_csv('PLM-ICD-master/data/mimic3/ALL_PHE_CODES.txt', sep='\\n', index=False, header=False)"
   ]
  },
  {
   "cell_type": "code",
   "execution_count": 14,
   "metadata": {},
   "outputs": [
    {
     "data": {
      "text/plain": [
       "<AxesSubplot:ylabel='Frequency'>"
      ]
     },
     "execution_count": 14,
     "metadata": {},
     "output_type": "execute_result"
    },
    {
     "data": {
      "image/png": "[encoded data removed]",
      "text/plain": [
       "<Figure size 640x480 with 1 Axes>"
      ]
     },
     "metadata": {},
     "output_type": "display_data"
    }
   ],
   "source": [
    "train_ds_notes.n_PHEd1.plot.hist(bins=50)"
   ]
  }
 ],
 "metadata": {
  "kernelspec": {
   "display_name": "CS769",
   "language": "python",
   "name": "cs769"
  },
  "language_info": {
   "codemirror_mode": {
    "name": "ipython",
    "version": 3
   },
   "file_extension": ".py",
   "mimetype": "text/x-python",
   "name": "python",
   "nbconvert_exporter": "python",
   "pygments_lexer": "ipython3",
   "version": "3.7.16"
  },
  "orig_nbformat": 4
 },
 "nbformat": 4,
 "nbformat_minor": 2
}
